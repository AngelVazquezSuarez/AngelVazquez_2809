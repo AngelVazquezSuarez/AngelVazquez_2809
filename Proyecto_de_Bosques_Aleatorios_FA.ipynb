{
  "nbformat": 4,
  "nbformat_minor": 0,
  "metadata": {
    "colab": {
      "name": "Proyecto de Bosques Aleatorios FA.ipynb",
      "provenance": [],
      "collapsed_sections": [],
      "authorship_tag": "ABX9TyPe872jwi2/aMPlSLXAwIX1",
      "include_colab_link": true
    },
    "kernelspec": {
      "name": "python3",
      "display_name": "Python 3"
    },
    "language_info": {
      "name": "python"
    }
  },
  "cells": [
    {
      "cell_type": "markdown",
      "metadata": {
        "id": "view-in-github",
        "colab_type": "text"
      },
      "source": [
        "<a href=\"https://colab.research.google.com/github/AngelVazquezSuarez/AngelVazquez_2809/blob/main/Proyecto_de_Bosques_Aleatorios_FA.ipynb\" target=\"_parent\"><img src=\"https://colab.research.google.com/assets/colab-badge.svg\" alt=\"Open In Colab\"/></a>"
      ]
    },
    {
      "cell_type": "code",
      "execution_count": 3,
      "metadata": {
        "id": "rDeuLZTVfIZ2"
      },
      "outputs": [],
      "source": [
        "# Importamos las librerias\n",
        "import numpy as np\n",
        "import pandas as pd\n",
        "import matplotlib.pyplot as plt\n",
        "from sklearn.ensemble import RandomForestClassifier\n",
        "import io"
      ]
    },
    {
      "cell_type": "code",
      "source": [
        "# Importamos nuestros datos\n",
        "from google.colab import files\n",
        "\n",
        "features = files.upload()\n",
        "respuesta = files.upload()"
      ],
      "metadata": {
        "colab": {
          "resources": {
            "http://localhost:8080/nbextensions/google.colab/files.js": {
              "data": "Ly8gQ29weXJpZ2h0IDIwMTcgR29vZ2xlIExMQwovLwovLyBMaWNlbnNlZCB1bmRlciB0aGUgQXBhY2hlIExpY2Vuc2UsIFZlcnNpb24gMi4wICh0aGUgIkxpY2Vuc2UiKTsKLy8geW91IG1heSBub3QgdXNlIHRoaXMgZmlsZSBleGNlcHQgaW4gY29tcGxpYW5jZSB3aXRoIHRoZSBMaWNlbnNlLgovLyBZb3UgbWF5IG9idGFpbiBhIGNvcHkgb2YgdGhlIExpY2Vuc2UgYXQKLy8KLy8gICAgICBodHRwOi8vd3d3LmFwYWNoZS5vcmcvbGljZW5zZXMvTElDRU5TRS0yLjAKLy8KLy8gVW5sZXNzIHJlcXVpcmVkIGJ5IGFwcGxpY2FibGUgbGF3IG9yIGFncmVlZCB0byBpbiB3cml0aW5nLCBzb2Z0d2FyZQovLyBkaXN0cmlidXRlZCB1bmRlciB0aGUgTGljZW5zZSBpcyBkaXN0cmlidXRlZCBvbiBhbiAiQVMgSVMiIEJBU0lTLAovLyBXSVRIT1VUIFdBUlJBTlRJRVMgT1IgQ09ORElUSU9OUyBPRiBBTlkgS0lORCwgZWl0aGVyIGV4cHJlc3Mgb3IgaW1wbGllZC4KLy8gU2VlIHRoZSBMaWNlbnNlIGZvciB0aGUgc3BlY2lmaWMgbGFuZ3VhZ2UgZ292ZXJuaW5nIHBlcm1pc3Npb25zIGFuZAovLyBsaW1pdGF0aW9ucyB1bmRlciB0aGUgTGljZW5zZS4KCi8qKgogKiBAZmlsZW92ZXJ2aWV3IEhlbHBlcnMgZm9yIGdvb2dsZS5jb2xhYiBQeXRob24gbW9kdWxlLgogKi8KKGZ1bmN0aW9uKHNjb3BlKSB7CmZ1bmN0aW9uIHNwYW4odGV4dCwgc3R5bGVBdHRyaWJ1dGVzID0ge30pIHsKICBjb25zdCBlbGVtZW50ID0gZG9jdW1lbnQuY3JlYXRlRWxlbWVudCgnc3BhbicpOwogIGVsZW1lbnQudGV4dENvbnRlbnQgPSB0ZXh0OwogIGZvciAoY29uc3Qga2V5IG9mIE9iamVjdC5rZXlzKHN0eWxlQXR0cmlidXRlcykpIHsKICAgIGVsZW1lbnQuc3R5bGVba2V5XSA9IHN0eWxlQXR0cmlidXRlc1trZXldOwogIH0KICByZXR1cm4gZWxlbWVudDsKfQoKLy8gTWF4IG51bWJlciBvZiBieXRlcyB3aGljaCB3aWxsIGJlIHVwbG9hZGVkIGF0IGEgdGltZS4KY29uc3QgTUFYX1BBWUxPQURfU0laRSA9IDEwMCAqIDEwMjQ7CgpmdW5jdGlvbiBfdXBsb2FkRmlsZXMoaW5wdXRJZCwgb3V0cHV0SWQpIHsKICBjb25zdCBzdGVwcyA9IHVwbG9hZEZpbGVzU3RlcChpbnB1dElkLCBvdXRwdXRJZCk7CiAgY29uc3Qgb3V0cHV0RWxlbWVudCA9IGRvY3VtZW50LmdldEVsZW1lbnRCeUlkKG91dHB1dElkKTsKICAvLyBDYWNoZSBzdGVwcyBvbiB0aGUgb3V0cHV0RWxlbWVudCB0byBtYWtlIGl0IGF2YWlsYWJsZSBmb3IgdGhlIG5leHQgY2FsbAogIC8vIHRvIHVwbG9hZEZpbGVzQ29udGludWUgZnJvbSBQeXRob24uCiAgb3V0cHV0RWxlbWVudC5zdGVwcyA9IHN0ZXBzOwoKICByZXR1cm4gX3VwbG9hZEZpbGVzQ29udGludWUob3V0cHV0SWQpOwp9CgovLyBUaGlzIGlzIHJvdWdobHkgYW4gYXN5bmMgZ2VuZXJhdG9yIChub3Qgc3VwcG9ydGVkIGluIHRoZSBicm93c2VyIHlldCksCi8vIHdoZXJlIHRoZXJlIGFyZSBtdWx0aXBsZSBhc3luY2hyb25vdXMgc3RlcHMgYW5kIHRoZSBQeXRob24gc2lkZSBpcyBnb2luZwovLyB0byBwb2xsIGZvciBjb21wbGV0aW9uIG9mIGVhY2ggc3RlcC4KLy8gVGhpcyB1c2VzIGEgUHJvbWlzZSB0byBibG9jayB0aGUgcHl0aG9uIHNpZGUgb24gY29tcGxldGlvbiBvZiBlYWNoIHN0ZXAsCi8vIHRoZW4gcGFzc2VzIHRoZSByZXN1bHQgb2YgdGhlIHByZXZpb3VzIHN0ZXAgYXMgdGhlIGlucHV0IHRvIHRoZSBuZXh0IHN0ZXAuCmZ1bmN0aW9uIF91cGxvYWRGaWxlc0NvbnRpbnVlKG91dHB1dElkKSB7CiAgY29uc3Qgb3V0cHV0RWxlbWVudCA9IGRvY3VtZW50LmdldEVsZW1lbnRCeUlkKG91dHB1dElkKTsKICBjb25zdCBzdGVwcyA9IG91dHB1dEVsZW1lbnQuc3RlcHM7CgogIGNvbnN0IG5leHQgPSBzdGVwcy5uZXh0KG91dHB1dEVsZW1lbnQubGFzdFByb21pc2VWYWx1ZSk7CiAgcmV0dXJuIFByb21pc2UucmVzb2x2ZShuZXh0LnZhbHVlLnByb21pc2UpLnRoZW4oKHZhbHVlKSA9PiB7CiAgICAvLyBDYWNoZSB0aGUgbGFzdCBwcm9taXNlIHZhbHVlIHRvIG1ha2UgaXQgYXZhaWxhYmxlIHRvIHRoZSBuZXh0CiAgICAvLyBzdGVwIG9mIHRoZSBnZW5lcmF0b3IuCiAgICBvdXRwdXRFbGVtZW50Lmxhc3RQcm9taXNlVmFsdWUgPSB2YWx1ZTsKICAgIHJldHVybiBuZXh0LnZhbHVlLnJlc3BvbnNlOwogIH0pOwp9CgovKioKICogR2VuZXJhdG9yIGZ1bmN0aW9uIHdoaWNoIGlzIGNhbGxlZCBiZXR3ZWVuIGVhY2ggYXN5bmMgc3RlcCBvZiB0aGUgdXBsb2FkCiAqIHByb2Nlc3MuCiAqIEBwYXJhbSB7c3RyaW5nfSBpbnB1dElkIEVsZW1lbnQgSUQgb2YgdGhlIGlucHV0IGZpbGUgcGlja2VyIGVsZW1lbnQuCiAqIEBwYXJhbSB7c3RyaW5nfSBvdXRwdXRJZCBFbGVtZW50IElEIG9mIHRoZSBvdXRwdXQgZGlzcGxheS4KICogQHJldHVybiB7IUl0ZXJhYmxlPCFPYmplY3Q+fSBJdGVyYWJsZSBvZiBuZXh0IHN0ZXBzLgogKi8KZnVuY3Rpb24qIHVwbG9hZEZpbGVzU3RlcChpbnB1dElkLCBvdXRwdXRJZCkgewogIGNvbnN0IGlucHV0RWxlbWVudCA9IGRvY3VtZW50LmdldEVsZW1lbnRCeUlkKGlucHV0SWQpOwogIGlucHV0RWxlbWVudC5kaXNhYmxlZCA9IGZhbHNlOwoKICBjb25zdCBvdXRwdXRFbGVtZW50ID0gZG9jdW1lbnQuZ2V0RWxlbWVudEJ5SWQob3V0cHV0SWQpOwogIG91dHB1dEVsZW1lbnQuaW5uZXJIVE1MID0gJyc7CgogIGNvbnN0IHBpY2tlZFByb21pc2UgPSBuZXcgUHJvbWlzZSgocmVzb2x2ZSkgPT4gewogICAgaW5wdXRFbGVtZW50LmFkZEV2ZW50TGlzdGVuZXIoJ2NoYW5nZScsIChlKSA9PiB7CiAgICAgIHJlc29sdmUoZS50YXJnZXQuZmlsZXMpOwogICAgfSk7CiAgfSk7CgogIGNvbnN0IGNhbmNlbCA9IGRvY3VtZW50LmNyZWF0ZUVsZW1lbnQoJ2J1dHRvbicpOwogIGlucHV0RWxlbWVudC5wYXJlbnRFbGVtZW50LmFwcGVuZENoaWxkKGNhbmNlbCk7CiAgY2FuY2VsLnRleHRDb250ZW50ID0gJ0NhbmNlbCB1cGxvYWQnOwogIGNvbnN0IGNhbmNlbFByb21pc2UgPSBuZXcgUHJvbWlzZSgocmVzb2x2ZSkgPT4gewogICAgY2FuY2VsLm9uY2xpY2sgPSAoKSA9PiB7CiAgICAgIHJlc29sdmUobnVsbCk7CiAgICB9OwogIH0pOwoKICAvLyBXYWl0IGZvciB0aGUgdXNlciB0byBwaWNrIHRoZSBmaWxlcy4KICBjb25zdCBmaWxlcyA9IHlpZWxkIHsKICAgIHByb21pc2U6IFByb21pc2UucmFjZShbcGlja2VkUHJvbWlzZSwgY2FuY2VsUHJvbWlzZV0pLAogICAgcmVzcG9uc2U6IHsKICAgICAgYWN0aW9uOiAnc3RhcnRpbmcnLAogICAgfQogIH07CgogIGNhbmNlbC5yZW1vdmUoKTsKCiAgLy8gRGlzYWJsZSB0aGUgaW5wdXQgZWxlbWVudCBzaW5jZSBmdXJ0aGVyIHBpY2tzIGFyZSBub3QgYWxsb3dlZC4KICBpbnB1dEVsZW1lbnQuZGlzYWJsZWQgPSB0cnVlOwoKICBpZiAoIWZpbGVzKSB7CiAgICByZXR1cm4gewogICAgICByZXNwb25zZTogewogICAgICAgIGFjdGlvbjogJ2NvbXBsZXRlJywKICAgICAgfQogICAgfTsKICB9CgogIGZvciAoY29uc3QgZmlsZSBvZiBmaWxlcykgewogICAgY29uc3QgbGkgPSBkb2N1bWVudC5jcmVhdGVFbGVtZW50KCdsaScpOwogICAgbGkuYXBwZW5kKHNwYW4oZmlsZS5uYW1lLCB7Zm9udFdlaWdodDogJ2JvbGQnfSkpOwogICAgbGkuYXBwZW5kKHNwYW4oCiAgICAgICAgYCgke2ZpbGUudHlwZSB8fCAnbi9hJ30pIC0gJHtmaWxlLnNpemV9IGJ5dGVzLCBgICsKICAgICAgICBgbGFzdCBtb2RpZmllZDogJHsKICAgICAgICAgICAgZmlsZS5sYXN0TW9kaWZpZWREYXRlID8gZmlsZS5sYXN0TW9kaWZpZWREYXRlLnRvTG9jYWxlRGF0ZVN0cmluZygpIDoKICAgICAgICAgICAgICAgICAgICAgICAgICAgICAgICAgICAgJ24vYSd9IC0gYCkpOwogICAgY29uc3QgcGVyY2VudCA9IHNwYW4oJzAlIGRvbmUnKTsKICAgIGxpLmFwcGVuZENoaWxkKHBlcmNlbnQpOwoKICAgIG91dHB1dEVsZW1lbnQuYXBwZW5kQ2hpbGQobGkpOwoKICAgIGNvbnN0IGZpbGVEYXRhUHJvbWlzZSA9IG5ldyBQcm9taXNlKChyZXNvbHZlKSA9PiB7CiAgICAgIGNvbnN0IHJlYWRlciA9IG5ldyBGaWxlUmVhZGVyKCk7CiAgICAgIHJlYWRlci5vbmxvYWQgPSAoZSkgPT4gewogICAgICAgIHJlc29sdmUoZS50YXJnZXQucmVzdWx0KTsKICAgICAgfTsKICAgICAgcmVhZGVyLnJlYWRBc0FycmF5QnVmZmVyKGZpbGUpOwogICAgfSk7CiAgICAvLyBXYWl0IGZvciB0aGUgZGF0YSB0byBiZSByZWFkeS4KICAgIGxldCBmaWxlRGF0YSA9IHlpZWxkIHsKICAgICAgcHJvbWlzZTogZmlsZURhdGFQcm9taXNlLAogICAgICByZXNwb25zZTogewogICAgICAgIGFjdGlvbjogJ2NvbnRpbnVlJywKICAgICAgfQogICAgfTsKCiAgICAvLyBVc2UgYSBjaHVua2VkIHNlbmRpbmcgdG8gYXZvaWQgbWVzc2FnZSBzaXplIGxpbWl0cy4gU2VlIGIvNjIxMTU2NjAuCiAgICBsZXQgcG9zaXRpb24gPSAwOwogICAgZG8gewogICAgICBjb25zdCBsZW5ndGggPSBNYXRoLm1pbihmaWxlRGF0YS5ieXRlTGVuZ3RoIC0gcG9zaXRpb24sIE1BWF9QQVlMT0FEX1NJWkUpOwogICAgICBjb25zdCBjaHVuayA9IG5ldyBVaW50OEFycmF5KGZpbGVEYXRhLCBwb3NpdGlvbiwgbGVuZ3RoKTsKICAgICAgcG9zaXRpb24gKz0gbGVuZ3RoOwoKICAgICAgY29uc3QgYmFzZTY0ID0gYnRvYShTdHJpbmcuZnJvbUNoYXJDb2RlLmFwcGx5KG51bGwsIGNodW5rKSk7CiAgICAgIHlpZWxkIHsKICAgICAgICByZXNwb25zZTogewogICAgICAgICAgYWN0aW9uOiAnYXBwZW5kJywKICAgICAgICAgIGZpbGU6IGZpbGUubmFtZSwKICAgICAgICAgIGRhdGE6IGJhc2U2NCwKICAgICAgICB9LAogICAgICB9OwoKICAgICAgbGV0IHBlcmNlbnREb25lID0gZmlsZURhdGEuYnl0ZUxlbmd0aCA9PT0gMCA/CiAgICAgICAgICAxMDAgOgogICAgICAgICAgTWF0aC5yb3VuZCgocG9zaXRpb24gLyBmaWxlRGF0YS5ieXRlTGVuZ3RoKSAqIDEwMCk7CiAgICAgIHBlcmNlbnQudGV4dENvbnRlbnQgPSBgJHtwZXJjZW50RG9uZX0lIGRvbmVgOwoKICAgIH0gd2hpbGUgKHBvc2l0aW9uIDwgZmlsZURhdGEuYnl0ZUxlbmd0aCk7CiAgfQoKICAvLyBBbGwgZG9uZS4KICB5aWVsZCB7CiAgICByZXNwb25zZTogewogICAgICBhY3Rpb246ICdjb21wbGV0ZScsCiAgICB9CiAgfTsKfQoKc2NvcGUuZ29vZ2xlID0gc2NvcGUuZ29vZ2xlIHx8IHt9OwpzY29wZS5nb29nbGUuY29sYWIgPSBzY29wZS5nb29nbGUuY29sYWIgfHwge307CnNjb3BlLmdvb2dsZS5jb2xhYi5fZmlsZXMgPSB7CiAgX3VwbG9hZEZpbGVzLAogIF91cGxvYWRGaWxlc0NvbnRpbnVlLAp9Owp9KShzZWxmKTsK",
              "ok": true,
              "headers": [
                [
                  "content-type",
                  "application/javascript"
                ]
              ],
              "status": 200,
              "status_text": ""
            }
          },
          "base_uri": "https://localhost:8080/",
          "height": 126
        },
        "id": "4bzP9O7ogCRF",
        "outputId": "717e46c2-1a43-443a-e5ff-a21e71ee8f04"
      },
      "execution_count": 4,
      "outputs": [
        {
          "output_type": "display_data",
          "data": {
            "text/html": [
              "\n",
              "     <input type=\"file\" id=\"files-da11d7e0-83b2-45e8-a5e8-e48db7663a93\" name=\"files[]\" multiple disabled\n",
              "        style=\"border:none\" />\n",
              "     <output id=\"result-da11d7e0-83b2-45e8-a5e8-e48db7663a93\">\n",
              "      Upload widget is only available when the cell has been executed in the\n",
              "      current browser session. Please rerun this cell to enable.\n",
              "      </output>\n",
              "      <script src=\"/nbextensions/google.colab/files.js\"></script> "
            ],
            "text/plain": [
              "<IPython.core.display.HTML object>"
            ]
          },
          "metadata": {}
        },
        {
          "output_type": "stream",
          "name": "stdout",
          "text": [
            "Saving features.csv to features.csv\n"
          ]
        },
        {
          "output_type": "display_data",
          "data": {
            "text/html": [
              "\n",
              "     <input type=\"file\" id=\"files-fc823adb-bc86-4c6b-be4e-73a014e22850\" name=\"files[]\" multiple disabled\n",
              "        style=\"border:none\" />\n",
              "     <output id=\"result-fc823adb-bc86-4c6b-be4e-73a014e22850\">\n",
              "      Upload widget is only available when the cell has been executed in the\n",
              "      current browser session. Please rerun this cell to enable.\n",
              "      </output>\n",
              "      <script src=\"/nbextensions/google.colab/files.js\"></script> "
            ],
            "text/plain": [
              "<IPython.core.display.HTML object>"
            ]
          },
          "metadata": {}
        },
        {
          "output_type": "stream",
          "name": "stdout",
          "text": [
            "Saving respuesta.csv to respuesta.csv\n"
          ]
        }
      ]
    },
    {
      "cell_type": "code",
      "source": [
        "# Nombramos a las columnas con indices de ambos archivos\n",
        "features_names=['1','2','3','4','5','6','7','8','9']\n",
        "\n",
        "# Declaramos nuestros Primer Dataframe para trabajar\n",
        "df1 = pd.read_csv(io.BytesIO(features['features.csv']), header=None, names=features_names)\n",
        "df1"
      ],
      "metadata": {
        "colab": {
          "base_uri": "https://localhost:8080/",
          "height": 414
        },
        "id": "pKYNQOAJgSIV",
        "outputId": "bd800b0a-bc97-47b8-85a9-5d01ee14a8fe"
      },
      "execution_count": 5,
      "outputs": [
        {
          "output_type": "execute_result",
          "data": {
            "text/html": [
              "<div>\n",
              "<style scoped>\n",
              "    .dataframe tbody tr th:only-of-type {\n",
              "        vertical-align: middle;\n",
              "    }\n",
              "\n",
              "    .dataframe tbody tr th {\n",
              "        vertical-align: top;\n",
              "    }\n",
              "\n",
              "    .dataframe thead th {\n",
              "        text-align: right;\n",
              "    }\n",
              "</style>\n",
              "<table border=\"1\" class=\"dataframe\">\n",
              "  <thead>\n",
              "    <tr style=\"text-align: right;\">\n",
              "      <th></th>\n",
              "      <th>1</th>\n",
              "      <th>2</th>\n",
              "      <th>3</th>\n",
              "      <th>4</th>\n",
              "      <th>5</th>\n",
              "      <th>6</th>\n",
              "      <th>7</th>\n",
              "      <th>8</th>\n",
              "      <th>9</th>\n",
              "    </tr>\n",
              "  </thead>\n",
              "  <tbody>\n",
              "    <tr>\n",
              "      <th>0</th>\n",
              "      <td>5</td>\n",
              "      <td>1</td>\n",
              "      <td>1</td>\n",
              "      <td>1</td>\n",
              "      <td>2</td>\n",
              "      <td>1</td>\n",
              "      <td>3</td>\n",
              "      <td>1</td>\n",
              "      <td>1</td>\n",
              "    </tr>\n",
              "    <tr>\n",
              "      <th>1</th>\n",
              "      <td>5</td>\n",
              "      <td>4</td>\n",
              "      <td>4</td>\n",
              "      <td>5</td>\n",
              "      <td>7</td>\n",
              "      <td>10</td>\n",
              "      <td>3</td>\n",
              "      <td>2</td>\n",
              "      <td>1</td>\n",
              "    </tr>\n",
              "    <tr>\n",
              "      <th>2</th>\n",
              "      <td>3</td>\n",
              "      <td>1</td>\n",
              "      <td>1</td>\n",
              "      <td>1</td>\n",
              "      <td>2</td>\n",
              "      <td>2</td>\n",
              "      <td>3</td>\n",
              "      <td>1</td>\n",
              "      <td>1</td>\n",
              "    </tr>\n",
              "    <tr>\n",
              "      <th>3</th>\n",
              "      <td>6</td>\n",
              "      <td>8</td>\n",
              "      <td>8</td>\n",
              "      <td>1</td>\n",
              "      <td>3</td>\n",
              "      <td>4</td>\n",
              "      <td>3</td>\n",
              "      <td>7</td>\n",
              "      <td>1</td>\n",
              "    </tr>\n",
              "    <tr>\n",
              "      <th>4</th>\n",
              "      <td>4</td>\n",
              "      <td>1</td>\n",
              "      <td>1</td>\n",
              "      <td>3</td>\n",
              "      <td>2</td>\n",
              "      <td>1</td>\n",
              "      <td>3</td>\n",
              "      <td>1</td>\n",
              "      <td>1</td>\n",
              "    </tr>\n",
              "    <tr>\n",
              "      <th>...</th>\n",
              "      <td>...</td>\n",
              "      <td>...</td>\n",
              "      <td>...</td>\n",
              "      <td>...</td>\n",
              "      <td>...</td>\n",
              "      <td>...</td>\n",
              "      <td>...</td>\n",
              "      <td>...</td>\n",
              "      <td>...</td>\n",
              "    </tr>\n",
              "    <tr>\n",
              "      <th>694</th>\n",
              "      <td>3</td>\n",
              "      <td>1</td>\n",
              "      <td>1</td>\n",
              "      <td>1</td>\n",
              "      <td>3</td>\n",
              "      <td>2</td>\n",
              "      <td>1</td>\n",
              "      <td>1</td>\n",
              "      <td>1</td>\n",
              "    </tr>\n",
              "    <tr>\n",
              "      <th>695</th>\n",
              "      <td>2</td>\n",
              "      <td>1</td>\n",
              "      <td>1</td>\n",
              "      <td>1</td>\n",
              "      <td>2</td>\n",
              "      <td>1</td>\n",
              "      <td>1</td>\n",
              "      <td>1</td>\n",
              "      <td>1</td>\n",
              "    </tr>\n",
              "    <tr>\n",
              "      <th>696</th>\n",
              "      <td>5</td>\n",
              "      <td>10</td>\n",
              "      <td>10</td>\n",
              "      <td>3</td>\n",
              "      <td>7</td>\n",
              "      <td>3</td>\n",
              "      <td>8</td>\n",
              "      <td>10</td>\n",
              "      <td>2</td>\n",
              "    </tr>\n",
              "    <tr>\n",
              "      <th>697</th>\n",
              "      <td>4</td>\n",
              "      <td>8</td>\n",
              "      <td>6</td>\n",
              "      <td>4</td>\n",
              "      <td>3</td>\n",
              "      <td>4</td>\n",
              "      <td>10</td>\n",
              "      <td>6</td>\n",
              "      <td>1</td>\n",
              "    </tr>\n",
              "    <tr>\n",
              "      <th>698</th>\n",
              "      <td>4</td>\n",
              "      <td>8</td>\n",
              "      <td>8</td>\n",
              "      <td>5</td>\n",
              "      <td>4</td>\n",
              "      <td>5</td>\n",
              "      <td>10</td>\n",
              "      <td>4</td>\n",
              "      <td>1</td>\n",
              "    </tr>\n",
              "  </tbody>\n",
              "</table>\n",
              "<p>699 rows × 9 columns</p>\n",
              "</div>"
            ],
            "text/plain": [
              "     1   2   3  4  5   6   7   8  9\n",
              "0    5   1   1  1  2   1   3   1  1\n",
              "1    5   4   4  5  7  10   3   2  1\n",
              "2    3   1   1  1  2   2   3   1  1\n",
              "3    6   8   8  1  3   4   3   7  1\n",
              "4    4   1   1  3  2   1   3   1  1\n",
              "..  ..  ..  .. .. ..  ..  ..  .. ..\n",
              "694  3   1   1  1  3   2   1   1  1\n",
              "695  2   1   1  1  2   1   1   1  1\n",
              "696  5  10  10  3  7   3   8  10  2\n",
              "697  4   8   6  4  3   4  10   6  1\n",
              "698  4   8   8  5  4   5  10   4  1\n",
              "\n",
              "[699 rows x 9 columns]"
            ]
          },
          "metadata": {},
          "execution_count": 5
        }
      ]
    },
    {
      "cell_type": "code",
      "source": [
        "# Reptimos el procesos y declaramos nuuestro segundo Dataframe\n",
        "respuesta_names=['10']\n",
        "df2 = pd.read_csv(io.BytesIO(respuesta['respuesta.csv']), header=None, names=respuesta_names)\n",
        "df2"
      ],
      "metadata": {
        "colab": {
          "base_uri": "https://localhost:8080/",
          "height": 414
        },
        "id": "tYqGigza6dBo",
        "outputId": "1bde8260-bc58-454f-9ef9-9c5769cadd13"
      },
      "execution_count": 6,
      "outputs": [
        {
          "output_type": "execute_result",
          "data": {
            "text/html": [
              "<div>\n",
              "<style scoped>\n",
              "    .dataframe tbody tr th:only-of-type {\n",
              "        vertical-align: middle;\n",
              "    }\n",
              "\n",
              "    .dataframe tbody tr th {\n",
              "        vertical-align: top;\n",
              "    }\n",
              "\n",
              "    .dataframe thead th {\n",
              "        text-align: right;\n",
              "    }\n",
              "</style>\n",
              "<table border=\"1\" class=\"dataframe\">\n",
              "  <thead>\n",
              "    <tr style=\"text-align: right;\">\n",
              "      <th></th>\n",
              "      <th>10</th>\n",
              "    </tr>\n",
              "  </thead>\n",
              "  <tbody>\n",
              "    <tr>\n",
              "      <th>0</th>\n",
              "      <td>2</td>\n",
              "    </tr>\n",
              "    <tr>\n",
              "      <th>1</th>\n",
              "      <td>2</td>\n",
              "    </tr>\n",
              "    <tr>\n",
              "      <th>2</th>\n",
              "      <td>2</td>\n",
              "    </tr>\n",
              "    <tr>\n",
              "      <th>3</th>\n",
              "      <td>2</td>\n",
              "    </tr>\n",
              "    <tr>\n",
              "      <th>4</th>\n",
              "      <td>2</td>\n",
              "    </tr>\n",
              "    <tr>\n",
              "      <th>...</th>\n",
              "      <td>...</td>\n",
              "    </tr>\n",
              "    <tr>\n",
              "      <th>694</th>\n",
              "      <td>2</td>\n",
              "    </tr>\n",
              "    <tr>\n",
              "      <th>695</th>\n",
              "      <td>2</td>\n",
              "    </tr>\n",
              "    <tr>\n",
              "      <th>696</th>\n",
              "      <td>4</td>\n",
              "    </tr>\n",
              "    <tr>\n",
              "      <th>697</th>\n",
              "      <td>4</td>\n",
              "    </tr>\n",
              "    <tr>\n",
              "      <th>698</th>\n",
              "      <td>4</td>\n",
              "    </tr>\n",
              "  </tbody>\n",
              "</table>\n",
              "<p>699 rows × 1 columns</p>\n",
              "</div>"
            ],
            "text/plain": [
              "     10\n",
              "0     2\n",
              "1     2\n",
              "2     2\n",
              "3     2\n",
              "4     2\n",
              "..   ..\n",
              "694   2\n",
              "695   2\n",
              "696   4\n",
              "697   4\n",
              "698   4\n",
              "\n",
              "[699 rows x 1 columns]"
            ]
          },
          "metadata": {},
          "execution_count": 6
        }
      ]
    },
    {
      "cell_type": "code",
      "source": [
        "# Haciendo uso de la funcion \"concat\" concademos los datos en un solo Dataframe \n",
        "df = pd.concat([df1, df2], axis=1)\n",
        "df"
      ],
      "metadata": {
        "colab": {
          "base_uri": "https://localhost:8080/",
          "height": 414
        },
        "id": "UV_TDuiE9Z6R",
        "outputId": "b90039ae-66e3-45d5-d777-0fdf8cee4d0d"
      },
      "execution_count": 7,
      "outputs": [
        {
          "output_type": "execute_result",
          "data": {
            "text/html": [
              "<div>\n",
              "<style scoped>\n",
              "    .dataframe tbody tr th:only-of-type {\n",
              "        vertical-align: middle;\n",
              "    }\n",
              "\n",
              "    .dataframe tbody tr th {\n",
              "        vertical-align: top;\n",
              "    }\n",
              "\n",
              "    .dataframe thead th {\n",
              "        text-align: right;\n",
              "    }\n",
              "</style>\n",
              "<table border=\"1\" class=\"dataframe\">\n",
              "  <thead>\n",
              "    <tr style=\"text-align: right;\">\n",
              "      <th></th>\n",
              "      <th>1</th>\n",
              "      <th>2</th>\n",
              "      <th>3</th>\n",
              "      <th>4</th>\n",
              "      <th>5</th>\n",
              "      <th>6</th>\n",
              "      <th>7</th>\n",
              "      <th>8</th>\n",
              "      <th>9</th>\n",
              "      <th>10</th>\n",
              "    </tr>\n",
              "  </thead>\n",
              "  <tbody>\n",
              "    <tr>\n",
              "      <th>0</th>\n",
              "      <td>5</td>\n",
              "      <td>1</td>\n",
              "      <td>1</td>\n",
              "      <td>1</td>\n",
              "      <td>2</td>\n",
              "      <td>1</td>\n",
              "      <td>3</td>\n",
              "      <td>1</td>\n",
              "      <td>1</td>\n",
              "      <td>2</td>\n",
              "    </tr>\n",
              "    <tr>\n",
              "      <th>1</th>\n",
              "      <td>5</td>\n",
              "      <td>4</td>\n",
              "      <td>4</td>\n",
              "      <td>5</td>\n",
              "      <td>7</td>\n",
              "      <td>10</td>\n",
              "      <td>3</td>\n",
              "      <td>2</td>\n",
              "      <td>1</td>\n",
              "      <td>2</td>\n",
              "    </tr>\n",
              "    <tr>\n",
              "      <th>2</th>\n",
              "      <td>3</td>\n",
              "      <td>1</td>\n",
              "      <td>1</td>\n",
              "      <td>1</td>\n",
              "      <td>2</td>\n",
              "      <td>2</td>\n",
              "      <td>3</td>\n",
              "      <td>1</td>\n",
              "      <td>1</td>\n",
              "      <td>2</td>\n",
              "    </tr>\n",
              "    <tr>\n",
              "      <th>3</th>\n",
              "      <td>6</td>\n",
              "      <td>8</td>\n",
              "      <td>8</td>\n",
              "      <td>1</td>\n",
              "      <td>3</td>\n",
              "      <td>4</td>\n",
              "      <td>3</td>\n",
              "      <td>7</td>\n",
              "      <td>1</td>\n",
              "      <td>2</td>\n",
              "    </tr>\n",
              "    <tr>\n",
              "      <th>4</th>\n",
              "      <td>4</td>\n",
              "      <td>1</td>\n",
              "      <td>1</td>\n",
              "      <td>3</td>\n",
              "      <td>2</td>\n",
              "      <td>1</td>\n",
              "      <td>3</td>\n",
              "      <td>1</td>\n",
              "      <td>1</td>\n",
              "      <td>2</td>\n",
              "    </tr>\n",
              "    <tr>\n",
              "      <th>...</th>\n",
              "      <td>...</td>\n",
              "      <td>...</td>\n",
              "      <td>...</td>\n",
              "      <td>...</td>\n",
              "      <td>...</td>\n",
              "      <td>...</td>\n",
              "      <td>...</td>\n",
              "      <td>...</td>\n",
              "      <td>...</td>\n",
              "      <td>...</td>\n",
              "    </tr>\n",
              "    <tr>\n",
              "      <th>694</th>\n",
              "      <td>3</td>\n",
              "      <td>1</td>\n",
              "      <td>1</td>\n",
              "      <td>1</td>\n",
              "      <td>3</td>\n",
              "      <td>2</td>\n",
              "      <td>1</td>\n",
              "      <td>1</td>\n",
              "      <td>1</td>\n",
              "      <td>2</td>\n",
              "    </tr>\n",
              "    <tr>\n",
              "      <th>695</th>\n",
              "      <td>2</td>\n",
              "      <td>1</td>\n",
              "      <td>1</td>\n",
              "      <td>1</td>\n",
              "      <td>2</td>\n",
              "      <td>1</td>\n",
              "      <td>1</td>\n",
              "      <td>1</td>\n",
              "      <td>1</td>\n",
              "      <td>2</td>\n",
              "    </tr>\n",
              "    <tr>\n",
              "      <th>696</th>\n",
              "      <td>5</td>\n",
              "      <td>10</td>\n",
              "      <td>10</td>\n",
              "      <td>3</td>\n",
              "      <td>7</td>\n",
              "      <td>3</td>\n",
              "      <td>8</td>\n",
              "      <td>10</td>\n",
              "      <td>2</td>\n",
              "      <td>4</td>\n",
              "    </tr>\n",
              "    <tr>\n",
              "      <th>697</th>\n",
              "      <td>4</td>\n",
              "      <td>8</td>\n",
              "      <td>6</td>\n",
              "      <td>4</td>\n",
              "      <td>3</td>\n",
              "      <td>4</td>\n",
              "      <td>10</td>\n",
              "      <td>6</td>\n",
              "      <td>1</td>\n",
              "      <td>4</td>\n",
              "    </tr>\n",
              "    <tr>\n",
              "      <th>698</th>\n",
              "      <td>4</td>\n",
              "      <td>8</td>\n",
              "      <td>8</td>\n",
              "      <td>5</td>\n",
              "      <td>4</td>\n",
              "      <td>5</td>\n",
              "      <td>10</td>\n",
              "      <td>4</td>\n",
              "      <td>1</td>\n",
              "      <td>4</td>\n",
              "    </tr>\n",
              "  </tbody>\n",
              "</table>\n",
              "<p>699 rows × 10 columns</p>\n",
              "</div>"
            ],
            "text/plain": [
              "     1   2   3  4  5   6   7   8  9  10\n",
              "0    5   1   1  1  2   1   3   1  1   2\n",
              "1    5   4   4  5  7  10   3   2  1   2\n",
              "2    3   1   1  1  2   2   3   1  1   2\n",
              "3    6   8   8  1  3   4   3   7  1   2\n",
              "4    4   1   1  3  2   1   3   1  1   2\n",
              "..  ..  ..  .. .. ..  ..  ..  .. ..  ..\n",
              "694  3   1   1  1  3   2   1   1  1   2\n",
              "695  2   1   1  1  2   1   1   1  1   2\n",
              "696  5  10  10  3  7   3   8  10  2   4\n",
              "697  4   8   6  4  3   4  10   6  1   4\n",
              "698  4   8   8  5  4   5  10   4  1   4\n",
              "\n",
              "[699 rows x 10 columns]"
            ]
          },
          "metadata": {},
          "execution_count": 7
        }
      ]
    },
    {
      "cell_type": "code",
      "source": [
        "#Describimos nuestro Dataframe\n",
        "df.describe()"
      ],
      "metadata": {
        "colab": {
          "base_uri": "https://localhost:8080/",
          "height": 294
        },
        "id": "34WWI852wGql",
        "outputId": "959c8aa7-20a8-4c8e-bf98-ec0ddb6f7e71"
      },
      "execution_count": 8,
      "outputs": [
        {
          "output_type": "execute_result",
          "data": {
            "text/html": [
              "<div>\n",
              "<style scoped>\n",
              "    .dataframe tbody tr th:only-of-type {\n",
              "        vertical-align: middle;\n",
              "    }\n",
              "\n",
              "    .dataframe tbody tr th {\n",
              "        vertical-align: top;\n",
              "    }\n",
              "\n",
              "    .dataframe thead th {\n",
              "        text-align: right;\n",
              "    }\n",
              "</style>\n",
              "<table border=\"1\" class=\"dataframe\">\n",
              "  <thead>\n",
              "    <tr style=\"text-align: right;\">\n",
              "      <th></th>\n",
              "      <th>1</th>\n",
              "      <th>2</th>\n",
              "      <th>3</th>\n",
              "      <th>4</th>\n",
              "      <th>5</th>\n",
              "      <th>7</th>\n",
              "      <th>8</th>\n",
              "      <th>9</th>\n",
              "      <th>10</th>\n",
              "    </tr>\n",
              "  </thead>\n",
              "  <tbody>\n",
              "    <tr>\n",
              "      <th>count</th>\n",
              "      <td>699.000000</td>\n",
              "      <td>699.000000</td>\n",
              "      <td>699.000000</td>\n",
              "      <td>699.000000</td>\n",
              "      <td>699.000000</td>\n",
              "      <td>699.000000</td>\n",
              "      <td>699.000000</td>\n",
              "      <td>699.000000</td>\n",
              "      <td>699.000000</td>\n",
              "    </tr>\n",
              "    <tr>\n",
              "      <th>mean</th>\n",
              "      <td>4.417740</td>\n",
              "      <td>3.134478</td>\n",
              "      <td>3.207439</td>\n",
              "      <td>2.806867</td>\n",
              "      <td>3.216023</td>\n",
              "      <td>3.437768</td>\n",
              "      <td>2.866953</td>\n",
              "      <td>1.589413</td>\n",
              "      <td>2.689557</td>\n",
              "    </tr>\n",
              "    <tr>\n",
              "      <th>std</th>\n",
              "      <td>2.815741</td>\n",
              "      <td>3.051459</td>\n",
              "      <td>2.971913</td>\n",
              "      <td>2.855379</td>\n",
              "      <td>2.214300</td>\n",
              "      <td>2.438364</td>\n",
              "      <td>3.053634</td>\n",
              "      <td>1.715078</td>\n",
              "      <td>0.951273</td>\n",
              "    </tr>\n",
              "    <tr>\n",
              "      <th>min</th>\n",
              "      <td>1.000000</td>\n",
              "      <td>1.000000</td>\n",
              "      <td>1.000000</td>\n",
              "      <td>1.000000</td>\n",
              "      <td>1.000000</td>\n",
              "      <td>1.000000</td>\n",
              "      <td>1.000000</td>\n",
              "      <td>1.000000</td>\n",
              "      <td>2.000000</td>\n",
              "    </tr>\n",
              "    <tr>\n",
              "      <th>25%</th>\n",
              "      <td>2.000000</td>\n",
              "      <td>1.000000</td>\n",
              "      <td>1.000000</td>\n",
              "      <td>1.000000</td>\n",
              "      <td>2.000000</td>\n",
              "      <td>2.000000</td>\n",
              "      <td>1.000000</td>\n",
              "      <td>1.000000</td>\n",
              "      <td>2.000000</td>\n",
              "    </tr>\n",
              "    <tr>\n",
              "      <th>50%</th>\n",
              "      <td>4.000000</td>\n",
              "      <td>1.000000</td>\n",
              "      <td>1.000000</td>\n",
              "      <td>1.000000</td>\n",
              "      <td>2.000000</td>\n",
              "      <td>3.000000</td>\n",
              "      <td>1.000000</td>\n",
              "      <td>1.000000</td>\n",
              "      <td>2.000000</td>\n",
              "    </tr>\n",
              "    <tr>\n",
              "      <th>75%</th>\n",
              "      <td>6.000000</td>\n",
              "      <td>5.000000</td>\n",
              "      <td>5.000000</td>\n",
              "      <td>4.000000</td>\n",
              "      <td>4.000000</td>\n",
              "      <td>5.000000</td>\n",
              "      <td>4.000000</td>\n",
              "      <td>1.000000</td>\n",
              "      <td>4.000000</td>\n",
              "    </tr>\n",
              "    <tr>\n",
              "      <th>max</th>\n",
              "      <td>10.000000</td>\n",
              "      <td>10.000000</td>\n",
              "      <td>10.000000</td>\n",
              "      <td>10.000000</td>\n",
              "      <td>10.000000</td>\n",
              "      <td>10.000000</td>\n",
              "      <td>10.000000</td>\n",
              "      <td>10.000000</td>\n",
              "      <td>4.000000</td>\n",
              "    </tr>\n",
              "  </tbody>\n",
              "</table>\n",
              "</div>"
            ],
            "text/plain": [
              "                1           2           3  ...           8           9          10\n",
              "count  699.000000  699.000000  699.000000  ...  699.000000  699.000000  699.000000\n",
              "mean     4.417740    3.134478    3.207439  ...    2.866953    1.589413    2.689557\n",
              "std      2.815741    3.051459    2.971913  ...    3.053634    1.715078    0.951273\n",
              "min      1.000000    1.000000    1.000000  ...    1.000000    1.000000    2.000000\n",
              "25%      2.000000    1.000000    1.000000  ...    1.000000    1.000000    2.000000\n",
              "50%      4.000000    1.000000    1.000000  ...    1.000000    1.000000    2.000000\n",
              "75%      6.000000    5.000000    5.000000  ...    4.000000    1.000000    4.000000\n",
              "max     10.000000   10.000000   10.000000  ...   10.000000   10.000000    4.000000\n",
              "\n",
              "[8 rows x 9 columns]"
            ]
          },
          "metadata": {},
          "execution_count": 8
        }
      ]
    },
    {
      "cell_type": "code",
      "source": [
        "# Describimos el tipo de datos que estamos manejando\n",
        "df.dtypes"
      ],
      "metadata": {
        "colab": {
          "base_uri": "https://localhost:8080/"
        },
        "id": "rN9SV57biVTi",
        "outputId": "ad1989bf-c2ea-4756-a415-24c5d626eb30"
      },
      "execution_count": 9,
      "outputs": [
        {
          "output_type": "execute_result",
          "data": {
            "text/plain": [
              "1      int64\n",
              "2      int64\n",
              "3      int64\n",
              "4      int64\n",
              "5      int64\n",
              "6     object\n",
              "7      int64\n",
              "8      int64\n",
              "9      int64\n",
              "10     int64\n",
              "dtype: object"
            ]
          },
          "metadata": {},
          "execution_count": 9
        }
      ]
    },
    {
      "cell_type": "code",
      "source": [
        "#Reemplazamos el caracter '?' por un 0 en la fila X6 para poder procesarlos\n",
        "df['6'] = df['6'].replace('?', 0)\n",
        "df"
      ],
      "metadata": {
        "colab": {
          "base_uri": "https://localhost:8080/",
          "height": 414
        },
        "id": "jvpT-7kQiEAt",
        "outputId": "eb1abef6-a35d-4e1f-d8c1-24c082818f7e"
      },
      "execution_count": 10,
      "outputs": [
        {
          "output_type": "execute_result",
          "data": {
            "text/html": [
              "<div>\n",
              "<style scoped>\n",
              "    .dataframe tbody tr th:only-of-type {\n",
              "        vertical-align: middle;\n",
              "    }\n",
              "\n",
              "    .dataframe tbody tr th {\n",
              "        vertical-align: top;\n",
              "    }\n",
              "\n",
              "    .dataframe thead th {\n",
              "        text-align: right;\n",
              "    }\n",
              "</style>\n",
              "<table border=\"1\" class=\"dataframe\">\n",
              "  <thead>\n",
              "    <tr style=\"text-align: right;\">\n",
              "      <th></th>\n",
              "      <th>1</th>\n",
              "      <th>2</th>\n",
              "      <th>3</th>\n",
              "      <th>4</th>\n",
              "      <th>5</th>\n",
              "      <th>6</th>\n",
              "      <th>7</th>\n",
              "      <th>8</th>\n",
              "      <th>9</th>\n",
              "      <th>10</th>\n",
              "    </tr>\n",
              "  </thead>\n",
              "  <tbody>\n",
              "    <tr>\n",
              "      <th>0</th>\n",
              "      <td>5</td>\n",
              "      <td>1</td>\n",
              "      <td>1</td>\n",
              "      <td>1</td>\n",
              "      <td>2</td>\n",
              "      <td>1</td>\n",
              "      <td>3</td>\n",
              "      <td>1</td>\n",
              "      <td>1</td>\n",
              "      <td>2</td>\n",
              "    </tr>\n",
              "    <tr>\n",
              "      <th>1</th>\n",
              "      <td>5</td>\n",
              "      <td>4</td>\n",
              "      <td>4</td>\n",
              "      <td>5</td>\n",
              "      <td>7</td>\n",
              "      <td>10</td>\n",
              "      <td>3</td>\n",
              "      <td>2</td>\n",
              "      <td>1</td>\n",
              "      <td>2</td>\n",
              "    </tr>\n",
              "    <tr>\n",
              "      <th>2</th>\n",
              "      <td>3</td>\n",
              "      <td>1</td>\n",
              "      <td>1</td>\n",
              "      <td>1</td>\n",
              "      <td>2</td>\n",
              "      <td>2</td>\n",
              "      <td>3</td>\n",
              "      <td>1</td>\n",
              "      <td>1</td>\n",
              "      <td>2</td>\n",
              "    </tr>\n",
              "    <tr>\n",
              "      <th>3</th>\n",
              "      <td>6</td>\n",
              "      <td>8</td>\n",
              "      <td>8</td>\n",
              "      <td>1</td>\n",
              "      <td>3</td>\n",
              "      <td>4</td>\n",
              "      <td>3</td>\n",
              "      <td>7</td>\n",
              "      <td>1</td>\n",
              "      <td>2</td>\n",
              "    </tr>\n",
              "    <tr>\n",
              "      <th>4</th>\n",
              "      <td>4</td>\n",
              "      <td>1</td>\n",
              "      <td>1</td>\n",
              "      <td>3</td>\n",
              "      <td>2</td>\n",
              "      <td>1</td>\n",
              "      <td>3</td>\n",
              "      <td>1</td>\n",
              "      <td>1</td>\n",
              "      <td>2</td>\n",
              "    </tr>\n",
              "    <tr>\n",
              "      <th>...</th>\n",
              "      <td>...</td>\n",
              "      <td>...</td>\n",
              "      <td>...</td>\n",
              "      <td>...</td>\n",
              "      <td>...</td>\n",
              "      <td>...</td>\n",
              "      <td>...</td>\n",
              "      <td>...</td>\n",
              "      <td>...</td>\n",
              "      <td>...</td>\n",
              "    </tr>\n",
              "    <tr>\n",
              "      <th>694</th>\n",
              "      <td>3</td>\n",
              "      <td>1</td>\n",
              "      <td>1</td>\n",
              "      <td>1</td>\n",
              "      <td>3</td>\n",
              "      <td>2</td>\n",
              "      <td>1</td>\n",
              "      <td>1</td>\n",
              "      <td>1</td>\n",
              "      <td>2</td>\n",
              "    </tr>\n",
              "    <tr>\n",
              "      <th>695</th>\n",
              "      <td>2</td>\n",
              "      <td>1</td>\n",
              "      <td>1</td>\n",
              "      <td>1</td>\n",
              "      <td>2</td>\n",
              "      <td>1</td>\n",
              "      <td>1</td>\n",
              "      <td>1</td>\n",
              "      <td>1</td>\n",
              "      <td>2</td>\n",
              "    </tr>\n",
              "    <tr>\n",
              "      <th>696</th>\n",
              "      <td>5</td>\n",
              "      <td>10</td>\n",
              "      <td>10</td>\n",
              "      <td>3</td>\n",
              "      <td>7</td>\n",
              "      <td>3</td>\n",
              "      <td>8</td>\n",
              "      <td>10</td>\n",
              "      <td>2</td>\n",
              "      <td>4</td>\n",
              "    </tr>\n",
              "    <tr>\n",
              "      <th>697</th>\n",
              "      <td>4</td>\n",
              "      <td>8</td>\n",
              "      <td>6</td>\n",
              "      <td>4</td>\n",
              "      <td>3</td>\n",
              "      <td>4</td>\n",
              "      <td>10</td>\n",
              "      <td>6</td>\n",
              "      <td>1</td>\n",
              "      <td>4</td>\n",
              "    </tr>\n",
              "    <tr>\n",
              "      <th>698</th>\n",
              "      <td>4</td>\n",
              "      <td>8</td>\n",
              "      <td>8</td>\n",
              "      <td>5</td>\n",
              "      <td>4</td>\n",
              "      <td>5</td>\n",
              "      <td>10</td>\n",
              "      <td>4</td>\n",
              "      <td>1</td>\n",
              "      <td>4</td>\n",
              "    </tr>\n",
              "  </tbody>\n",
              "</table>\n",
              "<p>699 rows × 10 columns</p>\n",
              "</div>"
            ],
            "text/plain": [
              "     1   2   3  4  5   6   7   8  9  10\n",
              "0    5   1   1  1  2   1   3   1  1   2\n",
              "1    5   4   4  5  7  10   3   2  1   2\n",
              "2    3   1   1  1  2   2   3   1  1   2\n",
              "3    6   8   8  1  3   4   3   7  1   2\n",
              "4    4   1   1  3  2   1   3   1  1   2\n",
              "..  ..  ..  .. .. ..  ..  ..  .. ..  ..\n",
              "694  3   1   1  1  3   2   1   1  1   2\n",
              "695  2   1   1  1  2   1   1   1  1   2\n",
              "696  5  10  10  3  7   3   8  10  2   4\n",
              "697  4   8   6  4  3   4  10   6  1   4\n",
              "698  4   8   8  5  4   5  10   4  1   4\n",
              "\n",
              "[699 rows x 10 columns]"
            ]
          },
          "metadata": {},
          "execution_count": 10
        }
      ]
    },
    {
      "cell_type": "code",
      "source": [
        "#Convertimos la columna X6 de Strings a Int para su procesamiento y verificamos\n",
        "df[\"6\"] = df[\"6\"].astype(str).astype(int) \n",
        "df.dtypes"
      ],
      "metadata": {
        "colab": {
          "base_uri": "https://localhost:8080/"
        },
        "id": "ieyDytaoj8d0",
        "outputId": "8d026ddc-8506-43b2-e5ca-65b71f3b6b98"
      },
      "execution_count": 12,
      "outputs": [
        {
          "output_type": "execute_result",
          "data": {
            "text/plain": [
              "1     int64\n",
              "2     int64\n",
              "3     int64\n",
              "4     int64\n",
              "5     int64\n",
              "6     int64\n",
              "7     int64\n",
              "8     int64\n",
              "9     int64\n",
              "10    int64\n",
              "dtype: object"
            ]
          },
          "metadata": {},
          "execution_count": 12
        }
      ]
    },
    {
      "cell_type": "code",
      "source": [
        "#Primer Nivel de Aleatoriedad:Se usa el Muestro de Reemplazo\n",
        "print(df.sample(frac=2/3, replace=True))"
      ],
      "metadata": {
        "colab": {
          "base_uri": "https://localhost:8080/"
        },
        "id": "i2VpHcAeJ-B5",
        "outputId": "9d51bd02-744f-4094-feef-919feada9d0c"
      },
      "execution_count": 13,
      "outputs": [
        {
          "output_type": "stream",
          "name": "stdout",
          "text": [
            "      1  2  3  4  5   6  7   8  9  10\n",
            "293  10  4  4  6  2  10  2   3  1   4\n",
            "337   1  1  1  1  2   1  3   1  1   2\n",
            "456  10  6  5  8  5  10  8   6  1   4\n",
            "50    9  5  8  1  2   3  2   1  5   4\n",
            "529   4  1  1  1  1   1  2   1  1   2\n",
            "..   .. .. .. .. ..  .. ..  .. ..  ..\n",
            "441   5  2  2  4  2   4  1   1  1   2\n",
            "327   1  1  1  1  2   1  2   1  1   2\n",
            "655   3  1  1  1  2   1  2   1  1   2\n",
            "255   5  6  6  2  4  10  3   6  1   4\n",
            "186   1  5  8  6  5   8  7  10  1   4\n",
            "\n",
            "[466 rows x 10 columns]\n"
          ]
        }
      ]
    },
    {
      "cell_type": "code",
      "source": [
        "# Segundo Nivel de Aleatoriedad: El modelo toma tres parametros paraa evaluar diferentes cada vez\n",
        "from random import sample\n",
        "print(df.columns[:-1], \"\\n\")\n",
        "print(sample(set(df.columns[:-1]), 3))"
      ],
      "metadata": {
        "colab": {
          "base_uri": "https://localhost:8080/"
        },
        "id": "ASjD7zgQIuxG",
        "outputId": "c7c8b56f-4898-4102-898c-1cbb9c1e5459"
      },
      "execution_count": 14,
      "outputs": [
        {
          "output_type": "stream",
          "name": "stdout",
          "text": [
            "Index(['1', '2', '3', '4', '5', '6', '7', '8', '9'], dtype='object') \n",
            "\n",
            "['2', '4', '7']\n"
          ]
        }
      ]
    },
    {
      "cell_type": "code",
      "source": [
        "print(\" METRICAS DEL BOSQUE ALEATORIO\")\n",
        "for i in range (30):\n",
        "# Creamos el modelos de Bosques Aleatorios (y configuramos el número de estimadores (arboles de decision))\n",
        " BA_model = RandomForestClassifier(n_estimators=30,\n",
        "                                  criterion=\"gini\",\n",
        "                                  max_features=\"sqrt\",\n",
        "                                  bootstrap=True,\n",
        "                                  max_samples=2/3,\n",
        "                                  oob_score=True)\n",
        " # Nos axulia a imprimir los datos sin tantas advertencias de los paquetes de SkLearn\n",
        " def warn(*args, **kwargs):\n",
        "    pass\n",
        " import warnings\n",
        " warnings.warn = warn\n",
        "\n",
        "#Establecemos los datos a ser usados en el modelo\n",
        " BA_model.fit(df[df.columns[:-1].values], df[\"10\"].values)\n",
        "\n",
        "#Declaracion para Obtener las Metricas\n",
        "#Calculamos accuracy score y el OOB score del modelo \n",
        " print(\"Caso: \",i)\n",
        " print(\"La Varianza es igual a: \", BA_model.score(df[df.columns[:-1].values], df[\"10\"].values)) #Imprimiendo el Promedio de la Varianza\n",
        " print(\"El OOB Score es: \", BA_model.oob_score_)\n",
        "\n",
        "#Calculamos precision score\n",
        " from sklearn.metrics import precision_score\n",
        " y_true = df[\"10\"].values\n",
        " y_pred = BA_model.predict(df[df.columns[:-1].values])\n",
        " precision = precision_score(y_true, y_pred, average='macro')\n",
        " print(\"La Precision del Modelo es igual a:\", precision)\n",
        "\n",
        " #Calculamos recall score\n",
        " from sklearn.metrics import recall_score\n",
        " y_true = df[\"10\"].values\n",
        " y_pred = BA_model.predict(df[df.columns[:-1].values])\n",
        " sensibilidad = recall_score(y_true, y_pred, average='macro')\n",
        " print(\"La Sensibilidad del Modelo es igual a:\", sensibilidad)\n",
        "\n",
        " #Calculamos f1 score\n",
        " from sklearn.metrics import f1_score\n",
        " y_true = df[\"10\"].values\n",
        " y_pred = BA_model.predict(df[df.columns[:-1].values])\n",
        " puntaje = f1_score(y_true, y_pred, average='macro')\n",
        " print(\"El Puntaje del Modelo es igual a:\", puntaje)\n",
        "\n",
        " #Graficamos la Matriz de Confusion\n",
        " from mlxtend.plotting import plot_confusion_matrix\n",
        " from sklearn.metrics import confusion_matrix\n",
        " y_pred = BA_model.predict(df[df.columns[:-1].values])\n",
        " matriz = confusion_matrix( df[\"10\"].values,y_pred)\n",
        "\n",
        " plot_confusion_matrix(conf_mat=matriz, figsize=(6,6), show_normed=False)\n",
        " print(\"\\n\")\n",
        " print(\"\\n\")\n",
        " plt.tight_layout()"
      ],
      "metadata": {
        "id": "BSqLKF-2kLYF",
        "colab": {
          "base_uri": "https://localhost:8080/",
          "height": 1000
        },
        "outputId": "a594a27f-ebf8-49a2-d843-4412d7cfc901"
      },
      "execution_count": 38,
      "outputs": [
        {
          "output_type": "stream",
          "name": "stdout",
          "text": [
            " METRICAS DEL BOSQUE ALEATORIO\n",
            "Caso:  0\n",
            "La Varianza es igual a:  0.9971387696709585\n",
            "El OOB Score es:  0.9656652360515021\n",
            "La Precision del Modelo es igual a: 0.996833608146551\n",
            "La Sensibilidad del Modelo es igual a: 0.996833608146551\n",
            "El Puntaje del Modelo es igual a: 0.996833608146551\n",
            "\n",
            "\n",
            "\n",
            "\n",
            "Caso:  1\n",
            "La Varianza es igual a:  0.9971387696709585\n",
            "El OOB Score es:  0.9642346208869814\n",
            "La Precision del Modelo es igual a: 0.9958847736625515\n",
            "La Sensibilidad del Modelo es igual a: 0.9978165938864629\n",
            "El Puntaje del Modelo es igual a: 0.9968397923938007\n",
            "\n",
            "\n",
            "\n",
            "\n",
            "Caso:  2\n",
            "La Varianza es igual a:  0.994277539341917\n",
            "El OOB Score es:  0.9599427753934192\n",
            "La Precision del Modelo es igual a: 0.993667216293102\n",
            "La Sensibilidad del Modelo es igual a: 0.993667216293102\n",
            "El Puntaje del Modelo es igual a: 0.993667216293102\n",
            "\n",
            "\n",
            "\n",
            "\n",
            "Caso:  3\n",
            "La Varianza es igual a:  0.9957081545064378\n",
            "El OOB Score es:  0.9656652360515021\n",
            "La Precision del Modelo es igual a: 0.9957380174291939\n",
            "La Sensibilidad del Modelo es igual a: 0.9947589193498705\n",
            "El Puntaje del Modelo es igual a: 0.9952457280701555\n",
            "\n",
            "\n",
            "\n",
            "\n",
            "Caso:  4\n",
            "La Varianza es igual a:  0.9957081545064378\n",
            "El OOB Score es:  0.9656652360515021\n",
            "La Precision del Modelo es igual a: 0.9938524590163935\n",
            "La Sensibilidad del Modelo es igual a: 0.9967248908296944\n",
            "El Puntaje del Modelo es igual a: 0.9952642811169702\n",
            "\n",
            "\n",
            "\n",
            "\n",
            "Caso:  5\n",
            "La Varianza es igual a:  0.994277539341917\n",
            "El OOB Score es:  0.9642346208869814\n",
            "La Precision del Modelo es igual a: 0.9918367346938776\n",
            "La Sensibilidad del Modelo es igual a: 0.9956331877729258\n",
            "El Puntaje del Modelo es igual a: 0.9936917912064112\n",
            "\n",
            "\n",
            "\n",
            "\n",
            "Caso:  6\n",
            "La Varianza es igual a:  0.994277539341917\n",
            "El OOB Score es:  0.9585121602288984\n",
            "La Precision del Modelo es igual a: 0.9927306692657569\n",
            "La Sensibilidad del Modelo es igual a: 0.9946502020330139\n",
            "El Puntaje del Modelo es igual a: 0.9936795847876014\n",
            "\n",
            "\n",
            "\n",
            "\n",
            "Caso:  7\n",
            "La Varianza es igual a:  0.9928469241773963\n",
            "El OOB Score es:  0.9642346208869814\n",
            "La Precision del Modelo es igual a: 0.9907043775896235\n",
            "La Sensibilidad del Modelo es igual a: 0.9935584989762453\n",
            "El Puntaje del Modelo es igual a: 0.9921071351949504\n",
            "\n",
            "\n",
            "\n",
            "\n",
            "Caso:  8\n",
            "La Varianza es igual a:  0.994277539341917\n",
            "El OOB Score es:  0.9599427753934192\n",
            "La Precision del Modelo es igual a: 0.9927306692657569\n",
            "La Sensibilidad del Modelo es igual a: 0.9946502020330139\n",
            "El Puntaje del Modelo es igual a: 0.9936795847876014\n",
            "\n",
            "\n",
            "\n",
            "\n",
            "Caso:  9\n",
            "La Varianza es igual a:  0.9971387696709585\n",
            "El OOB Score es:  0.9613733905579399\n",
            "La Precision del Modelo es igual a: 0.9958847736625515\n",
            "La Sensibilidad del Modelo es igual a: 0.9978165938864629\n",
            "El Puntaje del Modelo es igual a: 0.9968397923938007\n",
            "\n",
            "\n",
            "\n",
            "\n",
            "Caso:  10\n",
            "La Varianza es igual a:  0.994277539341917\n",
            "El OOB Score es:  0.9628040057224606\n",
            "La Precision del Modelo es igual a: 0.9927306692657569\n",
            "La Sensibilidad del Modelo es igual a: 0.9946502020330139\n",
            "El Puntaje del Modelo es igual a: 0.9936795847876014\n",
            "\n",
            "\n",
            "\n",
            "\n",
            "Caso:  11\n",
            "La Varianza es igual a:  0.994277539341917\n",
            "El OOB Score es:  0.9628040057224606\n",
            "La Precision del Modelo es igual a: 0.9927306692657569\n",
            "La Sensibilidad del Modelo es igual a: 0.9946502020330139\n",
            "El Puntaje del Modelo es igual a: 0.9936795847876014\n",
            "\n",
            "\n",
            "\n",
            "\n",
            "Caso:  12\n",
            "La Varianza es igual a:  0.9985693848354793\n",
            "El OOB Score es:  0.9713876967095851\n",
            "La Precision del Modelo es igual a: 0.9979338842975207\n",
            "La Sensibilidad del Modelo es igual a: 0.9989082969432315\n",
            "El Puntaje del Modelo es igual a: 0.9984183552251977\n",
            "\n",
            "\n",
            "\n",
            "\n",
            "Caso:  13\n",
            "La Varianza es igual a:  0.9957081545064378\n",
            "El OOB Score es:  0.9628040057224606\n",
            "La Precision del Modelo es igual a: 0.9947736766913214\n",
            "La Sensibilidad del Modelo es igual a: 0.9957419050897824\n",
            "El Puntaje del Modelo es igual a: 0.9952550656755932\n",
            "\n",
            "\n",
            "\n",
            "\n",
            "Caso:  14\n",
            "La Varianza es igual a:  0.994277539341917\n",
            "El OOB Score es:  0.9642346208869814\n",
            "La Precision del Modelo es igual a: 0.9946470802255776\n",
            "La Sensibilidad del Modelo es igual a: 0.99268423055319\n",
            "El Puntaje del Modelo es igual a: 0.9936546840958607\n",
            "\n",
            "\n",
            "\n",
            "\n",
            "Caso:  15\n",
            "La Varianza es igual a:  0.9971387696709585\n",
            "El OOB Score es:  0.9656652360515021\n",
            "La Precision del Modelo es igual a: 0.996833608146551\n",
            "La Sensibilidad del Modelo es igual a: 0.996833608146551\n",
            "El Puntaje del Modelo es igual a: 0.996833608146551\n",
            "\n",
            "\n",
            "\n",
            "\n",
            "Caso:  16\n",
            "La Varianza es igual a:  0.9971387696709585\n",
            "El OOB Score es:  0.9656652360515021\n",
            "La Precision del Modelo es igual a: 0.996833608146551\n",
            "La Sensibilidad del Modelo es igual a: 0.996833608146551\n",
            "El Puntaje del Modelo es igual a: 0.996833608146551\n",
            "\n",
            "\n",
            "\n",
            "\n",
            "Caso:  17\n",
            "La Varianza es igual a:  0.9928469241773963\n",
            "El OOB Score es:  0.9713876967095851\n",
            "La Precision del Modelo es igual a: 0.9907043775896235\n",
            "La Sensibilidad del Modelo es igual a: 0.9935584989762453\n",
            "El Puntaje del Modelo es igual a: 0.9921071351949504\n",
            "\n",
            "\n",
            "\n",
            "\n",
            "Caso:  18\n",
            "La Varianza es igual a:  0.9971387696709585\n",
            "El OOB Score es:  0.9670958512160229\n",
            "La Precision del Modelo es igual a: 0.9958847736625515\n",
            "La Sensibilidad del Modelo es igual a: 0.9978165938864629\n",
            "El Puntaje del Modelo es igual a: 0.9968397923938007\n",
            "\n",
            "\n",
            "\n",
            "\n",
            "Caso:  19\n",
            "La Varianza es igual a:  0.9957081545064378\n",
            "El OOB Score es:  0.9728183118741058\n",
            "La Precision del Modelo es igual a: 0.9947736766913214\n",
            "La Sensibilidad del Modelo es igual a: 0.9957419050897824\n",
            "El Puntaje del Modelo es igual a: 0.9952550656755932\n",
            "\n",
            "\n",
            "\n",
            "\n",
            "Caso:  20\n",
            "La Varianza es igual a:  0.994277539341917\n",
            "El OOB Score es:  0.9670958512160229\n",
            "La Precision del Modelo es igual a: 0.9927306692657569\n",
            "La Sensibilidad del Modelo es igual a: 0.9946502020330139\n",
            "El Puntaje del Modelo es igual a: 0.9936795847876014\n",
            "\n",
            "\n",
            "\n",
            "\n",
            "Caso:  21\n",
            "La Varianza es igual a:  0.9957081545064378\n",
            "El OOB Score es:  0.9628040057224606\n",
            "La Precision del Modelo es igual a: 0.9967462039045554\n",
            "La Sensibilidad del Modelo es igual a: 0.9937759336099585\n",
            "El Puntaje del Modelo es igual a: 0.9952362670689072\n",
            "\n",
            "\n",
            "\n",
            "\n",
            "Caso:  22\n",
            "La Varianza es igual a:  0.9971387696709585\n",
            "El OOB Score es:  0.9628040057224606\n",
            "La Precision del Modelo es igual a: 0.9958847736625515\n",
            "La Sensibilidad del Modelo es igual a: 0.9978165938864629\n",
            "El Puntaje del Modelo es igual a: 0.9968397923938007\n",
            "\n",
            "\n",
            "\n",
            "\n",
            "Caso:  23\n",
            "La Varianza es igual a:  0.9957081545064378\n",
            "El OOB Score es:  0.9685264663805436\n",
            "La Precision del Modelo es igual a: 0.9938524590163935\n",
            "La Sensibilidad del Modelo es igual a: 0.9967248908296944\n",
            "El Puntaje del Modelo es igual a: 0.9952642811169702\n",
            "\n",
            "\n",
            "\n",
            "\n",
            "Caso:  24\n",
            "La Varianza es igual a:  0.9957081545064378\n",
            "El OOB Score es:  0.9685264663805436\n",
            "La Precision del Modelo es igual a: 0.9947736766913214\n",
            "La Sensibilidad del Modelo es igual a: 0.9957419050897824\n",
            "El Puntaje del Modelo es igual a: 0.9952550656755932\n",
            "\n",
            "\n",
            "\n",
            "\n",
            "Caso:  25\n",
            "La Varianza es igual a:  0.9985693848354793\n",
            "El OOB Score es:  0.9599427753934192\n",
            "La Precision del Modelo es igual a: 0.9989106753812635\n",
            "La Sensibilidad del Modelo es igual a: 0.9979253112033195\n",
            "El Puntaje del Modelo es igual a: 0.9984152426900519\n",
            "\n",
            "\n",
            "\n",
            "\n",
            "Caso:  26\n",
            "La Varianza es igual a:  0.9971387696709585\n",
            "El OOB Score es:  0.9685264663805436\n",
            "La Precision del Modelo es igual a: 0.996833608146551\n",
            "La Sensibilidad del Modelo es igual a: 0.996833608146551\n",
            "El Puntaje del Modelo es igual a: 0.996833608146551\n",
            "\n",
            "\n",
            "\n",
            "\n",
            "Caso:  27\n",
            "La Varianza es igual a:  0.9928469241773963\n",
            "El OOB Score es:  0.9656652360515021\n",
            "La Precision del Modelo es igual a: 0.9907043775896235\n",
            "La Sensibilidad del Modelo es igual a: 0.9935584989762453\n",
            "El Puntaje del Modelo es igual a: 0.9921071351949504\n",
            "\n",
            "\n",
            "\n",
            "\n",
            "Caso:  28\n",
            "La Varianza es igual a:  0.9957081545064378\n",
            "El OOB Score es:  0.9642346208869814\n",
            "La Precision del Modelo es igual a: 0.9947736766913214\n",
            "La Sensibilidad del Modelo es igual a: 0.9957419050897824\n",
            "El Puntaje del Modelo es igual a: 0.9952550656755932\n",
            "\n",
            "\n",
            "\n",
            "\n",
            "Caso:  29\n",
            "La Varianza es igual a:  0.994277539341917\n",
            "El OOB Score es:  0.9656652360515021\n",
            "La Precision del Modelo es igual a: 0.9927306692657569\n",
            "La Sensibilidad del Modelo es igual a: 0.9946502020330139\n",
            "El Puntaje del Modelo es igual a: 0.9936795847876014\n",
            "\n",
            "\n",
            "\n",
            "\n"
          ]
        },
        {
          "output_type": "display_data",
          "data": {
            "image/png": "[encoded data removed]",
            "text/plain": [
              "<Figure size 432x432 with 1 Axes>"
            ]
          },
          "metadata": {
            "needs_background": "light"
          }
        },
        {
          "output_type": "display_data",
          "data": {
            "image/png": "[encoded data removed]",
            "text/plain": [
              "<Figure size 432x432 with 1 Axes>"
            ]
          },
          "metadata": {
            "needs_background": "light"
          }
        },
        {
          "output_type": "display_data",
          "data": {
            "image/png": "[encoded data removed]",
            "text/plain": [
              "<Figure size 432x432 with 1 Axes>"
            ]
          },
          "metadata": {
            "needs_background": "light"
          }
        },
        {
          "output_type": "display_data",
          "data": {
            "image/png": "[encoded data removed]",
            "text/plain": [
              "<Figure size 432x432 with 1 Axes>"
            ]
          },
          "metadata": {
            "needs_background": "light"
          }
        },
        {
          "output_type": "display_data",
          "data": {
            "image/png": "[encoded data removed]",
            "text/plain": [
              "<Figure size 432x432 with 1 Axes>"
            ]
          },
          "metadata": {
            "needs_background": "light"
          }
        },
        {
          "output_type": "display_data",
          "data": {
            "image/png": "[encoded data removed]",
            "text/plain": [
              "<Figure size 432x432 with 1 Axes>"
            ]
          },
          "metadata": {
            "needs_background": "light"
          }
        },
        {
          "output_type": "display_data",
          "data": {
            "image/png": "[encoded data removed]",
            "text/plain": [
              "<Figure size 432x432 with 1 Axes>"
            ]
          },
          "metadata": {
            "needs_background": "light"
          }
        },
        {
          "output_type": "display_data",
          "data": {
            "image/png": "[encoded data removed]",
            "text/plain": [
              "<Figure size 432x432 with 1 Axes>"
            ]
          },
          "metadata": {
            "needs_background": "light"
          }
        },
        {
          "output_type": "display_data",
          "data": {
            "image/png": "[encoded data removed]",
            "text/plain": [
              "<Figure size 432x432 with 1 Axes>"
            ]
          },
          "metadata": {
            "needs_background": "light"
          }
        },
        {
          "output_type": "display_data",
          "data": {
            "image/png": "[encoded data removed]",
            "text/plain": [
              "<Figure size 432x432 with 1 Axes>"
            ]
          },
          "metadata": {
            "needs_background": "light"
          }
        },
        {
          "output_type": "display_data",
          "data": {
            "image/png": "[encoded data removed]",
            "text/plain": [
              "<Figure size 432x432 with 1 Axes>"
            ]
          },
          "metadata": {
            "needs_background": "light"
          }
        },
        {
          "output_type": "display_data",
          "data": {
            "image/png": "[encoded data removed]",
            "text/plain": [
              "<Figure size 432x432 with 1 Axes>"
            ]
          },
          "metadata": {
            "needs_background": "light"
          }
        },
        {
          "output_type": "display_data",
          "data": {
            "image/png": "[encoded data removed]",
            "text/plain": [
              "<Figure size 432x432 with 1 Axes>"
            ]
          },
          "metadata": {
            "needs_background": "light"
          }
        },
        {
          "output_type": "display_data",
          "data": {
            "image/png": "[encoded data removed]",
            "text/plain": [
              "<Figure size 432x432 with 1 Axes>"
            ]
          },
          "metadata": {
            "needs_background": "light"
          }
        },
        {
          "output_type": "display_data",
          "data": {
            "image/png": "[encoded data removed]",
            "text/plain": [
              "<Figure size 432x432 with 1 Axes>"
            ]
          },
          "metadata": {
            "needs_background": "light"
          }
        },
        {
          "output_type": "display_data",
          "data": {
            "image/png": "[encoded data removed]",
            "text/plain": [
              "<Figure size 432x432 with 1 Axes>"
            ]
          },
          "metadata": {
            "needs_background": "light"
          }
        },
        {
          "output_type": "display_data",
          "data": {
            "image/png": "[encoded data removed]",
            "text/plain": [
              "<Figure size 432x432 with 1 Axes>"
            ]
          },
          "metadata": {
            "needs_background": "light"
          }
        },
        {
          "output_type": "display_data",
          "data": {
            "image/png": "[encoded data removed]",
            "text/plain": [
              "<Figure size 432x432 with 1 Axes>"
            ]
          },
          "metadata": {
            "needs_background": "light"
          }
        },
        {
          "output_type": "display_data",
          "data": {
            "image/png": "[encoded data removed]",
            "text/plain": [
              "<Figure size 432x432 with 1 Axes>"
            ]
          },
          "metadata": {
            "needs_background": "light"
          }
        },
        {
          "output_type": "display_data",
          "data": {
            "image/png": "[encoded data removed]",
            "text/plain": [
              "<Figure size 432x432 with 1 Axes>"
            ]
          },
          "metadata": {
            "needs_background": "light"
          }
        },
        {
          "output_type": "display_data",
          "data": {
            "image/png": "[encoded data removed]",
            "text/plain": [
              "<Figure size 432x432 with 1 Axes>"
            ]
          },
          "metadata": {
            "needs_background": "light"
          }
        },
        {
          "output_type": "display_data",
          "data": {
            "image/png": "[encoded data removed]",
            "text/plain": [
              "<Figure size 432x432 with 1 Axes>"
            ]
          },
          "metadata": {
            "needs_background": "light"
          }
        },
        {
          "output_type": "display_data",
          "data": {
            "image/png": "[encoded data removed]",
            "text/plain": [
              "<Figure size 432x432 with 1 Axes>"
            ]
          },
          "metadata": {
            "needs_background": "light"
          }
        },
        {
          "output_type": "display_data",
          "data": {
            "image/png": "[encoded data removed]",
            "text/plain": [
              "<Figure size 432x432 with 1 Axes>"
            ]
          },
          "metadata": {
            "needs_background": "light"
          }
        },
        {
          "output_type": "display_data",
          "data": {
            "image/png": "[encoded data removed]",
            "text/plain": [
              "<Figure size 432x432 with 1 Axes>"
            ]
          },
          "metadata": {
            "needs_background": "light"
          }
        },
        {
          "output_type": "display_data",
          "data": {
            "image/png": "[encoded data removed]",
            "text/plain": [
              "<Figure size 432x432 with 1 Axes>"
            ]
          },
          "metadata": {
            "needs_background": "light"
          }
        },
        {
          "output_type": "display_data",
          "data": {
            "image/png": "[encoded data removed]",
            "text/plain": [
              "<Figure size 432x432 with 1 Axes>"
            ]
          },
          "metadata": {
            "needs_background": "light"
          }
        },
        {
          "output_type": "display_data",
          "data": {
            "image/png": "[encoded data removed]",
            "text/plain": [
              "<Figure size 432x432 with 1 Axes>"
            ]
          },
          "metadata": {
            "needs_background": "light"
          }
        },
        {
          "output_type": "display_data",
          "data": {
            "image/png": "[encoded data removed]",
            "text/plain": [
              "<Figure size 432x432 with 1 Axes>"
            ]
          },
          "metadata": {
            "needs_background": "light"
          }
        },
        {
          "output_type": "display_data",
          "data": {
            "image/png": "[encoded data removed]",
            "text/plain": [
              "<Figure size 432x432 with 1 Axes>"
            ]
          },
          "metadata": {
            "needs_background": "light"
          }
        }
      ]
    },
    {
      "cell_type": "code",
      "source": [
        "#Graficamos el Bosque Aleatorio en su totalidad\n",
        "print(\"MAPA DEL BOSQUE ALEATORIO\")\n",
        "from sklearn import tree\n",
        "for arbol in BA_model.estimators_:\n",
        "  tree.plot_tree(arbol, feature_names=df.columns[:-1])\n",
        "plt.show()"
      ],
      "metadata": {
        "colab": {
          "base_uri": "https://localhost:8080/",
          "height": 264
        },
        "id": "5GsKsTbpYZR9",
        "outputId": "95fc11db-9c28-46a1-fe27-3e6f2dbfd141"
      },
      "execution_count": null,
      "outputs": [
        {
          "output_type": "stream",
          "name": "stdout",
          "text": [
            "MAPA DEL BOSQUE ALEATORIO\n"
          ]
        },
        {
          "output_type": "display_data",
          "data": {
            "image/png": "[encoded data removed]",
            "text/plain": [
              "<Figure size 432x288 with 1 Axes>"
            ]
          },
          "metadata": {
            "needs_background": "light"
          }
        }
      ]
    },
    {
      "cell_type": "code",
      "source": [
        ""
      ],
      "metadata": {
        "id": "6fDzxOo-Ohdt"
      },
      "execution_count": null,
      "outputs": []
    }
  ]
}